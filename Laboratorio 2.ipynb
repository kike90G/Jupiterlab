{
 "cells": [
  {
   "cell_type": "markdown",
   "metadata": {},
   "source": [
    "# Laboratorio 2"
   ]
  },
  {
   "cell_type": "markdown",
   "metadata": {},
   "source": [
    "## Sistemas de Control de versiones"
   ]
  },
  {
   "cell_type": "markdown",
   "metadata": {},
   "source": [
    "Un sistema de control de versiones es una herramienta que se utiliza para mantener un historial de cambios y tambien para trabajar en conjunto un proyecto de desarrollo de software."
   ]
  },
  {
   "cell_type": "markdown",
   "metadata": {},
   "source": [
    "### Principales características"
   ]
  },
  {
   "cell_type": "markdown",
   "metadata": {},
   "source": [
    "* Determinar que persona del equipo de trabajo agregó cierta parte de codigo\n",
    "* Persona hizo cambios a alguna determinada parte del codigo\n",
    "* Control de versiones"
   ]
  },
  {
   "cell_type": "markdown",
   "metadata": {},
   "source": [
    "### Estructura Git"
   ]
  },
  {
   "cell_type": "markdown",
   "metadata": {},
   "source": [
    "Principalmente se busca entender como es que esta estructurado, para luego entender de forma sencilla los comandos que es utilizan ya que Git suele ser muy abstracto."
   ]
  },
  {
   "cell_type": "markdown",
   "metadata": {},
   "source": [
    "Se puede entender como un arbol en el cual cada rama de el es una copia del original, en cada una de esas ramas se pueden realizar diferentes cambios para luego cuando ya se hayan realizado se puedan fusionar con la principal y asi mantener la integridad de la raiz."
   ]
  },
  {
   "cell_type": "markdown",
   "metadata": {},
   "source": [
    "![alt text here](https://www.nobledesktop.com/image/gitresources/git-branches-merge.png)"
   ]
  },
  {
   "cell_type": "markdown",
   "metadata": {},
   "source": [
    "### Repositorio"
   ]
  },
  {
   "cell_type": "markdown",
   "metadata": {},
   "source": [
    "Se define como el directorio donde se encuentran todos los archivos que pertenecen al proyecto."
   ]
  },
  {
   "cell_type": "markdown",
   "metadata": {},
   "source": [
    "### Comandos"
   ]
  },
  {
   "cell_type": "markdown",
   "metadata": {},
   "source": [
    "Para poder realizar estos cambios en el repositorio, git utiliza una serie de comandos, algunos de los principales son:"
   ]
  },
  {
   "cell_type": "markdown",
   "metadata": {},
   "source": [
    "| Comando | Descripción|\n",
    "| :--- | :--- |\n",
    "| git help <command> | ayuda para utilizar algun comando en especifico |\n",
    "| git init | crea un nuevo repositorio de git, con datos almacenados en el .gitdirectorio |\n",
    "| git status | indica que esta sucediendo en ese momento |\n",
    "| git add <filename> | agrega nuevos archivos al área de preparación |\n",
    "| git commit | confirma los cambios |\n",
    "| git log | muestra el historial de cambios |\n",
    "| git diff <filename> | muestra los cambios realizados en comparación con el área de preparación|\n",
    "| git checkout <revision> | actualiza la rama actual y el HEAD |"
   ]
  },
  {
   "cell_type": "markdown",
   "metadata": {},
   "source": [
    "### Ramificación y fusión"
   ]
  },
  {
   "cell_type": "markdown",
   "metadata": {},
   "source": [
    "| Comando | Descripción|\n",
    "| :--- | :--- |\n",
    "| git branch | muestra el listado de ramas |\n",
    "| git branch <name> | crea una rama |\n",
    "| git checkout <name> | crea una rama y la deja en la posición actual para utilizarla |\n",
    "| git merge <revision> | realiza la fusion de la rama con la master o con otra |"
   ]
  },
  {
   "cell_type": "markdown",
   "metadata": {},
   "source": [
    "### Aplicar cambios"
   ]
  },
  {
   "cell_type": "markdown",
   "metadata": {},
   "source": [
    "| Comando | Descripción|\n",
    "| :--- | :--- |\n",
    "| git remote | muestra el listado de opciones |\n",
    "| git remote add <name> <url> | agrega la ubicación remota del repositorio |\n",
    "| git push <remote branch>: | envía objetos a remoto y actualiza la referencia remota |\n",
    "| git branch <remote branch>| configurar la correspondencia entre la repositorio local y remoto |\n",
    "| git fetch | recuperar objetos / referencias de un control remoto |\n",
    "| git pull | actualizar el repositorio local al commit más nuevo |\n",
    "| git clone | descargar el repositorio de forma remota |\n",
    "    "
   ]
  },
  {
   "cell_type": "markdown",
   "metadata": {},
   "source": [
    "### Revertir cambios"
   ]
  },
  {
   "cell_type": "markdown",
   "metadata": {},
   "source": [
    "| Comando | Descripción|\n",
    "| :--- | :--- |\n",
    "| git commit --amend | editar el contenido / mensaje de una confirmación |\n",
    "| git reset HEAD <file> | desmontar un archivo |\n",
    "| git checkout -- <file> | descartar los cambios |"
   ]
  },
  {
   "cell_type": "markdown",
   "metadata": {},
   "source": [
    "## Ejercicio básico"
   ]
  },
  {
   "cell_type": "markdown",
   "metadata": {},
   "source": [
    "En la siguiente ubicación C:\\Users\\Kike Merida\\Documents\\Postgrado en Analisis y Predicción de datos\\Ciencia de Datos en Python\\Lab 02\n",
    "creé un nuevo repositorio con el comando\n",
    "\n",
    "**git init**"
   ]
  },
  {
   "cell_type": "markdown",
   "metadata": {},
   "source": [
    "Para agregar un archivo al repositorio ejecuté el comando\n",
    "** git add "
   ]
  },
  {
   "cell_type": "code",
   "execution_count": null,
   "metadata": {},
   "outputs": [],
   "source": []
  }
 ],
 "metadata": {
  "kernelspec": {
   "display_name": "Python 3",
   "language": "python",
   "name": "python3"
  },
  "language_info": {
   "codemirror_mode": {
    "name": "ipython",
    "version": 3
   },
   "file_extension": ".py",
   "mimetype": "text/x-python",
   "name": "python",
   "nbconvert_exporter": "python",
   "pygments_lexer": "ipython3",
   "version": "3.8.5"
  }
 },
 "nbformat": 4,
 "nbformat_minor": 4
}
