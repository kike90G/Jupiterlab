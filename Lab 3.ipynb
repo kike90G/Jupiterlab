{
 "cells": [
  {
   "cell_type": "markdown",
   "metadata": {},
   "source": [
    "# Hoja de trabajo 2\n",
    "\n",
    "## Sintaxis, listas y tuplas\n",
    "\n",
    "### Parte # 1 - (Programacion y Sintaxis):\n",
    "1. Haga un programa en Python que reciba de parametro un numero de segundos y que despliegue\n",
    "en pantalla, las horas, minutos y segundos que representan. Por ejemplo:\n",
    "\n",
    "- Si el numero de segundos recibidos fuera: 2743 entonces su programa debera desplegar: Horas: 0, Minutos: 45 , Segundos: 43\n",
    "\n",
    "- Si el numero de segundos recibidos fuera 5871: Horas: 1, Minutos: 37 , Segundos: 51 \n",
    "\n",
    " Recuerde manejar excepciones y errores que considere necesarios."
   ]
  },
  {
   "cell_type": "code",
   "execution_count": 10,
   "metadata": {},
   "outputs": [
    {
     "name": "stdout",
     "output_type": "stream",
     "text": [
      "Ingrese el numero de segundos: 0\n",
      "Horas: 0, Minutos: 0, Segundos: 0\n"
     ]
    }
   ],
   "source": [
    "try:\n",
    "    seg = int(input('Ingrese el numero de segundos: '))\n",
    "\n",
    "    seg = seg % ( 24 * 60 *60)\n",
    "    hh = seg // (60 * 60)\n",
    "    seg = seg % (60 * 60)\n",
    "    mm = seg // 60\n",
    "    ss = seg % 60\n",
    "    print('Horas: {}, Minutos: {}, Segundos: {}' .format(hh, mm, ss))\n",
    "except(ValueError):\n",
    "    print(\"Solo puede ingresar numeros!!\")"
   ]
  },
  {
   "cell_type": "markdown",
   "metadata": {},
   "source": [
    "2. Haga una funcion en Python que dado un numero entre 1 y 20. Y un caracter cualquiera\n",
    "despliegue cuatro patrones triangulares.\n",
    "\n",
    " Por ejemplo si el usuario ingresara el numero 4 y el simbolo * el programa debera desplegar\n",
    " lo siguiente:"
   ]
  },
  {
   "cell_type": "code",
   "execution_count": 37,
   "metadata": {},
   "outputs": [
    {
     "name": "stdout",
     "output_type": "stream",
     "text": [
      "Ingrese el numero: 3\n",
      "Ingrese el simbolo: &\n",
      "&\n",
      "&&\n",
      "&&&\n",
      "\n",
      "\n",
      "&&&\n",
      "&&\n",
      "&\n",
      "\n",
      "\n",
      "   \n",
      "  &\n",
      " &&\n",
      "&&&\n",
      "\n",
      "\n",
      "&&&\n",
      " &&\n",
      "  &\n"
     ]
    }
   ],
   "source": [
    "\n",
    "def triangulo(n, s):\n",
    "    for i in range(0,n,1):\n",
    "        for j in range(0,i+1,1):\n",
    "            print(s, end=\"\")\n",
    "        print(\"\")\n",
    "    print(\"\\n\")\n",
    "    \n",
    "    for i in range(n,0,-1):\n",
    "        for j in range(0,i,1):\n",
    "            print(s, end=\"\")\n",
    "        print(\"\")\n",
    "    print(\"\\n\")    \n",
    "    \n",
    "    for i in range(n,-1,-1):\n",
    "        for j in range(i):\n",
    "            print(\" \", end=\"\")\n",
    "        for k in range(i,n):\n",
    "            print(s, end=\"\")\n",
    "        print(\"\")\n",
    "    print(\"\\n\")\n",
    "    \n",
    "    for i in range(n-1,-1,-1):\n",
    "        for j in range(n -i -1):\n",
    "            print(\" \", end=\"\")\n",
    "        for k in range(i+1):\n",
    "            print(s, end=\"\")\n",
    "        print(\"\")\n",
    "\n",
    "try:        \n",
    "    numero = int(input('Ingrese el numero: '))\n",
    "    if (numero > 0 and numero <=20):\n",
    "        simbolo = input('Ingrese el simbolo: ')\n",
    "        triangulo(numero, simbolo)\n",
    "    else:\n",
    "        print(\"El numero deben estar en un rango de 1 a 20\")\n",
    "except(ValueError):\n",
    "    print(\"\")\n",
    "    print(\"Solo puede ingresar numeros!!\")"
   ]
  },
  {
   "cell_type": "markdown",
   "metadata": {},
   "source": [
    "3. Haga un programa en Python que la fecha de nacimiento de una persona (puede ingresar por\n",
    "separado cada valor, es decir pedir primero dia, luego mes y luego año), despliegue la edad\n",
    "de la persona en años, meses y dias. Su resultado puede ser aproximado."
   ]
  },
  {
   "cell_type": "code",
   "execution_count": 7,
   "metadata": {},
   "outputs": [
    {
     "name": "stdout",
     "output_type": "stream",
     "text": [
      "Ingrese dia de cumpleaños: 28\n",
      "Ingrese mes de cumpleaños: 12\n",
      "Ingrese anio de cumpleaños: 1992\n",
      "Su edad es : 28 Años, 3 Meses, 7 Dias\n"
     ]
    }
   ],
   "source": [
    "from datetime import date\n",
    "import os\n",
    "\n",
    "dia = int(input('Ingrese dia de cumpleaños: '))\n",
    "mes = int(input('Ingrese mes de cumpleaños: '))\n",
    "anio = int(input('Ingrese anio de cumpleaños: '))\n",
    "\n",
    "dia_A = date.today().day\n",
    "mes_A = date.today().month\n",
    "anio_A = date.today().year\n",
    "\n",
    "diaCal = dia_A - dia\n",
    "mesCal = mes_A - mes\n",
    "anioCal = anio_A - anio\n",
    "\n",
    "if (mesCal < 0):\n",
    "    anioCal = anioCal -1\n",
    "elif (mesCal == 0):\n",
    "    if (diaCal < 0):\n",
    "        anioCal = anioCal -1\n",
    "        \n",
    "if (mesCal < 0):\n",
    "    mesCal = mesCal + 12\n",
    "if (diaCal < 0):\n",
    "    if (mesCal == 2):\n",
    "        diaCal = diaCal + 28\n",
    "    elif (mesCal == 4 or mesCal == 6 or mesCal == 9 or mesCal == 11):\n",
    "        diaCal = diaCal + 30\n",
    "    else:\n",
    "        diaCal = diaCal + 31\n",
    "        \n",
    "print('Su edad es : {} Años, {} Meses, {} Dias' .format(anioCal, mesCal, diaCal))\n"
   ]
  },
  {
   "cell_type": "markdown",
   "metadata": {},
   "source": [
    "### Parte #2 - (Estructuras de Datos):"
   ]
  },
  {
   "cell_type": "markdown",
   "metadata": {},
   "source": [
    "Resuelva los siguientes ejercicios sobre estructuras de datos\n",
    "en Python."
   ]
  },
  {
   "cell_type": "markdown",
   "metadata": {},
   "source": [
    "1. Escriba una funcion en Python que dada una tupla de elementos (numeros o letras) esta se\n",
    "convierta a un string. Tomar nota del siguiente ejemplo:\n",
    "Si la entrada fuera: (10, 20, 40, 5, 70)\n",
    "La salida debera ser: 102040570"
   ]
  },
  {
   "cell_type": "code",
   "execution_count": 62,
   "metadata": {},
   "outputs": [
    {
     "name": "stdout",
     "output_type": "stream",
     "text": [
      "El resultado es: \n",
      "102040570"
     ]
    }
   ],
   "source": [
    "def convertir_string(tupla):\n",
    "\n",
    "    print('El resultado es: ')\n",
    "    for i in tupla:\n",
    "        print(i, end=\"\")\n",
    "\n",
    "try:\n",
    "    tupla = [10, 20, 40, 5, 70]\n",
    "    convertir_string(tupla)\n",
    "    \n",
    "except:\n",
    "    ##Para que la funcion corra es necesario agregar el except \n",
    "     print(\"\")\n",
    "\n"
   ]
  },
  {
   "cell_type": "markdown",
   "metadata": {},
   "source": [
    "2. Cree un programa en Python que dada una lista de tuplas, elimine las tuplas que estan vacias. Tomar nota del siguiente ejemplo:\n",
    "* Si la lista fuera: [(), (), ('X',), ('a', 'b'), ('a', 'b', 'c'), ('d')]\n",
    "* El resultado debera ser: [('X'), ('a', 'b'), ('a', 'b', 'c'), 'd']"
   ]
  },
  {
   "cell_type": "code",
   "execution_count": 5,
   "metadata": {},
   "outputs": [
    {
     "name": "stdout",
     "output_type": "stream",
     "text": [
      "[(), (), 'X', ('a', 'b'), ('a', 'b', 'c'), 'd']\n",
      "\n",
      "El resultado es: \n",
      "['X', ('a', 'b'), ('a', 'b', 'c'), 'd']\n"
     ]
    }
   ],
   "source": [
    "Lista = [(), (), ('X'), ('a', 'b'), ('a', 'b', 'c'), ('d')]\n",
    "print(Lista)\n",
    "print()\n",
    "\n",
    "print('El resultado es: ')\n",
    "Lista = [t for t in Lista if t]\n",
    "print(Lista)"
   ]
  },
  {
   "cell_type": "markdown",
   "metadata": {},
   "source": [
    "3. Cree una funcion en Python que dada una tupla de tuplas con numeros, produzca una tupla\n",
    "con el promedio de cada tupla individual. Tomar nota del siguiente ejemplo:\n",
    "* Si la tupla de entrada fuera: ((10, 10, 10, 12), (30, 45, 56, 45), (81, 80, 39, 32))\n",
    "* El resultado debera ser: (10.5, 44, 58)"
   ]
  },
  {
   "cell_type": "code",
   "execution_count": 64,
   "metadata": {},
   "outputs": [
    {
     "name": "stdout",
     "output_type": "stream",
     "text": [
      "El resultado es: \n",
      "10.5 44 58 "
     ]
    }
   ],
   "source": [
    "from statistics import mean\n",
    "def promedio_tuplas(tupla):\n",
    "\n",
    "    print('El resultado es: ')\n",
    "\n",
    "    for i in range(len(tupla)):    \n",
    "        print(mean(tupla[i]), end=\" \")\n",
    "\n",
    "try:\n",
    "    tupla = [(10, 10, 10, 12), (30, 45, 56, 45), (81, 80, 39, 32)]\n",
    "    promedio_tuplas(tupla)\n",
    "    \n",
    "except:\n",
    "    ##Para que la funcion corra es necesario agregar el except \n",
    "     print(\"\")\n"
   ]
  },
  {
   "cell_type": "code",
   "execution_count": null,
   "metadata": {},
   "outputs": [],
   "source": []
  }
 ],
 "metadata": {
  "kernelspec": {
   "display_name": "Python 3",
   "language": "python",
   "name": "python3"
  },
  "language_info": {
   "codemirror_mode": {
    "name": "ipython",
    "version": 3
   },
   "file_extension": ".py",
   "mimetype": "text/x-python",
   "name": "python",
   "nbconvert_exporter": "python",
   "pygments_lexer": "ipython3",
   "version": "3.8.5"
  }
 },
 "nbformat": 4,
 "nbformat_minor": 4
}
